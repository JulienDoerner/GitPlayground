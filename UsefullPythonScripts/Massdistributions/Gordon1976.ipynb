{
 "cells": [
  {
   "cell_type": "markdown",
   "metadata": {},
   "source": [
    "        Gordon1976: http://adsabs.harvard.edu/abs/1976ApJ...208..346G"
   ]
  },
  {
   "cell_type": "code",
   "execution_count": 1,
   "metadata": {
    "collapsed": true
   },
   "outputs": [],
   "source": [
    "import numpy as np\n",
    "import matplotlib.pyplot as plt\n",
    "from scipy.optimize import curve_fit\n"
   ]
  },
  {
   "cell_type": "code",
   "execution_count": 2,
   "metadata": {
    "collapsed": true
   },
   "outputs": [],
   "source": [
    "Daten =[[2,2.5,0.13,0.49,0.81], #Index 1 = Spalte (R)\n",
    "[2.5,3,0.14,0.41,0.69], # Index 2 = Komponente Ri,Ra,HI,CO,H2\n",
    "[3,3.5,0.16,0.38,0.63],\n",
    "[3.5,4,0.19,0.39,0.65],\n",
    "[4,4.5,0.25,0.87,1.45],\n",
    "[4.5,5,0.3,1.07,1.79],\n",
    "[5,5.5,0.33,1.08,1.8],\n",
    "[5.5,6,0.32,1.19,1.98],\n",
    "[6,6.5,0.31,0.85,1.42],\n",
    "[6.5,7,0.3,0.65,1.09],\n",
    "[7,7.5,0.37,0.74,1.24],\n",
    "[7.5,8,0.38,0.67,1.11],\n",
    "[8,8.5,0.36,0.44,0.74],\n",
    "[8.5,9,0.32,0.19,0.31],\n",
    "[9,9.5,0.29,0.27,0.46],\n",
    "[9.5,10,0.38,0.21,0.36],\n",
    "[10,10.5,0.4,0.22,0.37],\n",
    "[10.5,11,0.25,0.08,0.13],\n",
    "[11,11.5,0.23,0.09,0.14],\n",
    "[11.5,12,0.32,0.06,0.09],\n",
    "[12,12.5,0.36,0.01,0.01],\n",
    "[12.5,13,0.32,0.02,0.03],\n",
    "[13,13.5,0.25,0.01,0.02],\n",
    "[13.5,14,0.16,0,0.01],\n",
    "[14,14.5,0.1,0.03,0.05],\n",
    "[14.5,15,0.09,0.02,0.03],\n",
    "[15,15.5,0.08,0.01,0.02],\n",
    "[15.5,16,0.06,0,0]]\t"
   ]
  },
  {
   "cell_type": "code",
   "execution_count": 3,
   "metadata": {
    "collapsed": true
   },
   "outputs": [],
   "source": [
    "x = np.linspace(0,26,27)\n",
    "nHI = np.linspace(0,26,27)\n",
    "nCO = np.linspace(0,26,27)\n",
    "nH2 = np.linspace(0,26,27)\n",
    "\n",
    "for i in range(27):\n",
    "\tx[i]=(Daten[i][0]+Daten[i][1])/2\n",
    "\tnHI[i]=Daten[i][2]\n",
    "\tnCO[i]=Daten[i][3]\n",
    "\tnH2[i]=Daten[i][4]"
   ]
  },
  {
   "cell_type": "code",
   "execution_count": 4,
   "metadata": {
    "collapsed": true
   },
   "outputs": [],
   "source": [
    "def Gordon_HI(R):\n",
    "\tR=R/0.85\n",
    "\tif R<2.25:\n",
    "\t\treturn 0\n",
    "\telse:\n",
    "\t\tif R>15.25:\n",
    "\t\t\treturn 0\n",
    "\t\telse:\n",
    "\t\t\ti = int(R*2-4.5)+1\n",
    "\t\t\treturn (nHI[i-1]+(nHI[i]-nHI[i-1])/(x[i]-x[i-1])*(R-x[i-1]))/0.85\n"
   ]
  },
  {
   "cell_type": "code",
   "execution_count": 5,
   "metadata": {
    "collapsed": true
   },
   "outputs": [],
   "source": [
    "def Gordon_H2(R):\n",
    "\tR=R/0.85\n",
    "\tif R<2.25:\n",
    "\t\treturn 0\n",
    "\telse:\n",
    "\t\tif R>15.25:\n",
    "\t\t\treturn 0\n",
    "\t\telse:\n",
    "\t\t\ti = int(R*2-4.5)+1\n",
    "\t\t\treturn (nH2[i-1]+(nH2[i]-nH2[i-1])/(x[i]-x[i-1])*(R-x[i-1]))/0.85\n"
   ]
  },
  {
   "cell_type": "code",
   "execution_count": 15,
   "metadata": {
    "collapsed": false
   },
   "outputs": [
    {
     "name": "stdout",
     "output_type": "stream",
     "text": [
      "(1500,)\n",
      "(1500,)\n"
     ]
    }
   ],
   "source": [
    "R = np.linspace(0,10,1500)\n",
    "HI = R.copy()\n",
    "H2 = np.zeros(len(R))\n",
    "for i in range(len(R)):\n",
    "    HI[i] = Gordon_HI(R[i])\n",
    "    H2[i] = Gordon_H2(R[i])\n"
   ]
  },
  {
   "cell_type": "code",
   "execution_count": 19,
   "metadata": {
    "collapsed": false
   },
   "outputs": [
    {
     "data": {
      "image/png": "[encoded data removed]",
      "text/plain": [
       "<matplotlib.figure.Figure at 0x7f6d98b35828>"
      ]
     },
     "metadata": {},
     "output_type": "display_data"
    }
   ],
   "source": [
    "plt.figure()\n",
    "plt.plot(R,HI,label='HI')\n",
    "plt.plot(R,H2,label='H2')\n",
    "plt.legend()\n",
    "plt.title('Distribution for Gordon 1976')\n",
    "plt.xlabel('galactic radius R/kpc')\n",
    "plt.ylabel('density 1/cm^3')\n",
    "plt.show()"
   ]
  },
  {
   "cell_type": "code",
   "execution_count": null,
   "metadata": {
    "collapsed": true
   },
   "outputs": [],
   "source": []
  },
  {
   "cell_type": "code",
   "execution_count": null,
   "metadata": {
    "collapsed": true
   },
   "outputs": [],
   "source": []
  }
 ],
 "metadata": {
  "kernelspec": {
   "display_name": "Python 3",
   "language": "python",
   "name": "python3"
  },
  "language_info": {
   "codemirror_mode": {
    "name": "ipython",
    "version": 3
   },
   "file_extension": ".py",
   "mimetype": "text/x-python",
   "name": "python",
   "nbconvert_exporter": "python",
   "pygments_lexer": "ipython3",
   "version": "3.5.3"
  }
 },
 "nbformat": 4,
 "nbformat_minor": 2
}
